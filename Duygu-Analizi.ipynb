{
 "cells": [
  {
   "cell_type": "code",
   "execution_count": null,
   "id": "e50cb347",
   "metadata": {
    "collapsed": true
   },
   "outputs": [],
   "source": [
    "%pip install nltk\n",
    "%pip install tweepy\n",
    "%pip install pandas"
   ]
  },
  {
   "cell_type": "code",
   "execution_count": null,
   "id": "f73c9b07",
   "metadata": {},
   "outputs": [],
   "source": [
    "import tweepy\n",
    "from tweepy import Stream\n",
    "from tweepy import OAuthHandler\n",
    "from tweepy.streaming import Stream\n",
    "import pandas as pd\n",
    "import json\n",
    "import csv\n",
    "import sys\n",
    "import time\n",
    "import re\n",
    "import warnings\n",
    "warnings.filterwarnings('ignore')"
   ]
  },
  {
   "cell_type": "code",
   "execution_count": null,
   "id": "8c748bcc",
   "metadata": {},
   "outputs": [],
   "source": [
    "ckey = 'o7qidRODRWm5u07PtAWrCpSqf'\n",
    "csecret = '1Yn60OYMJl5kRCSM0XQ4Lskxh6hjM4VMz51OdsS6dM9DQuQ4MV'\n",
    "atoken = '1315792402234441730-Dt7AydgVGYI5VN9RRQfnR8Endh0WAc'\n",
    "asecret = 'jhfiDfB53Z27EqHfvfKbNdo0w2SWLqyyoAkILqgSoaGMK'\n",
    "\n",
    "OAUTH_KEYS = {'consumer_key':ckey, 'consumer_secret':csecret, 'access_token_key':atoken, 'access_token_secret':asecret}\n",
    "auth = tweepy.OAuthHandler(OAUTH_KEYS['consumer_key'], OAUTH_KEYS['consumer_secret'])\n",
    "\n",
    "api = tweepy.API(auth)"
   ]
  },
  {
   "cell_type": "code",
   "execution_count": null,
   "id": "6aca0315",
   "metadata": {},
   "outputs": [],
   "source": [
    "def TweetTemizle(Dataset):\n",
    "    print (\"Tweetler Temizleniyor...\")\n",
    "    pattern = re.compile('http[s]?://(?:[a-zA-Z]|[0-9]|[$-_@.&+]|[!*\\(\\),]|(?:%[0-9a-fA-F][0-9a-fA-F]))+|#[a-zA-Z]+|$[a-zA-Z]+|@[a-zA-Z]+|[,.^_$*%-;鶯!?:]')\n",
    "    for i in range(len(Dataset[\"Tweet\"])):\n",
    "        Dataset[\"Tweet\"][i] = pattern.sub('', Dataset[\"Tweet\"][i])\n",
    "    print (\"Tweetler Temizlendi!\")\n",
    "    return Dataset"
   ]
  },
  {
   "cell_type": "code",
   "execution_count": null,
   "id": "8d505ed8",
   "metadata": {},
   "outputs": [],
   "source": [
    "def toDataFrame(tweets):\n",
    "    print (\"Veriler Kayıt Ediliyor...\")\n",
    "    # COnvert to data frame\n",
    "    DataSet = pd.DataFrame()\n",
    "    \n",
    "    DataSet['Tweet_Id'] = [tweet.id for tweet in tweets]\n",
    "    DataSet['Tweet'] = [tweet.text for tweet in tweets]\n",
    "    DataSet['Tweet_Tarih'] = [tweet.created_at for tweet in tweets]\n",
    "    DataSet['Kullanıcı_Id'] = [tweet.user.id for tweet in tweets]  \n",
    "    DataSet['Kullanıcı_Adı'] = [tweet.user.name for tweet in tweets]       \n",
    "    DataSet['Dil'] = [tweet.lang for tweet in tweets]\n",
    "    \n",
    "    \"\"\"\"\n",
    "    DataSet['userCreateDt'] = [tweet.user.created_at for tweet in tweets]\n",
    "    DataSet['tweetRetweetCt'] = [tweet.retweet_count for tweet in tweets]\n",
    "    DataSet['tweetFavoriteCt'] = [tweet.favorite_count for tweet in tweets]\n",
    "    DataSet['tweetSource'] = [tweet.source for tweet in tweets]\n",
    "    DataSet['userScreen'] = [tweet.user.screen_name for tweet in tweets]\n",
    "    DataSet['userDesc'] = [tweet.user.description for tweet in tweets]\n",
    "    DataSet['userFollowerCt'] = [tweet.user.followers_count for tweet in tweets]\n",
    "    DataSet['userFriendsCt'] = [tweet.user.friends_count for tweet in tweets]\n",
    "    DataSet['userLocation'] = [tweet.user.location for tweet in tweets]\n",
    "    DataSet['userTimezone'] = [tweet.user.time_zone for tweet in tweets]\n",
    "    DataSet['Coordinates'] = [tweet.coordinates for tweet in tweets]\n",
    "    DataSet['GeoEnabled'] = [tweet.user.geo_enabled for tweet in tweets] \n",
    "    users_retweeted = []    \n",
    "    for tweet in tweets:\n",
    "        if tweet.place:\n",
    "            tweets_place.append(tweet.place.full_name)\n",
    "        else:\n",
    "            tweets_place.append('null')\n",
    "    \n",
    "    DataSet['TweetPlace'] = [i for i in tweets_place]\n",
    "    DataSet['UserWhoRetweeted'] = [i for i in users_retweeted]\n",
    "    \"\"\"\n",
    "    print (\"Veriler Kayıt Edildi!\")\n",
    "    return DataSet"
   ]
  },
  {
   "cell_type": "code",
   "execution_count": null,
   "id": "485d6aad",
   "metadata": {},
   "outputs": [],
   "source": [
    "if (not api):\n",
    "    print (\"Bağlantı Yapılamadı!\")\n",
    "    sys.exit(-1)\n",
    "else:\n",
    "    print (\"Bağlantı Yapıldı!\")\n",
    "    \n",
    "    aranan=input(\"Aranacak Kelimeyi Girin: \")\n",
    "    \n",
    "    print (\"Kelimeye Uygun Tweetler Sorgulanıyor...\")\n",
    "    \n",
    "    cursor = tweepy.Cursor(api.search_tweets, q=aranan, result_type=\"new\", geocode=\"55.0000,4.0000,1000km\",lang='tr',count=100)\n",
    "    \n",
    "    results=[]\n",
    "    for item in cursor.items(1000): # Remove the limit to 1000\n",
    "            results.append(item)\n",
    "            \n",
    "    print (\"Kelimeye Uygun Tweetler Sorgulandı!\")\n",
    "    \n",
    "    DataSet = toDataFrame(results)\n",
    "    DataSet.to_csv('tw.csv',index=False)"
   ]
  },
  {
   "cell_type": "code",
   "execution_count": null,
   "id": "e018df1e",
   "metadata": {},
   "outputs": [],
   "source": [
    "Veri=pd.read_csv('tw.csv')\n",
    "TweetTemizle(Veri)\n",
    "\n",
    "Veri.head()"
   ]
  },
  {
   "cell_type": "code",
   "execution_count": null,
   "id": "15a2639d",
   "metadata": {},
   "outputs": [],
   "source": [
    "Veri.tail()"
   ]
  },
  {
   "cell_type": "code",
   "execution_count": null,
   "id": "af5b11af",
   "metadata": {},
   "outputs": [],
   "source": [
    "Veri.info()"
   ]
  },
  {
   "cell_type": "code",
   "execution_count": null,
   "id": "c87048a4",
   "metadata": {},
   "outputs": [],
   "source": []
  }
 ],
 "metadata": {
  "kernelspec": {
   "display_name": "Python 3.9.13 ('base')",
   "language": "python",
   "name": "python3"
  },
  "language_info": {
   "codemirror_mode": {
    "name": "ipython",
    "version": 3
   },
   "file_extension": ".py",
   "mimetype": "text/x-python",
   "name": "python",
   "nbconvert_exporter": "python",
   "pygments_lexer": "ipython3",
   "version": "3.9.13"
  },
  "vscode": {
   "interpreter": {
    "hash": "e42634819b8c191a5d07eaf23810ff32516dd8d3875f28ec3e488928fbd3c187"
   }
  },
  "widgets": {
   "application/vnd.jupyter.widget-state+json": {
    "state": {},
    "version_major": 2,
    "version_minor": 0
   }
  }
 },
 "nbformat": 4,
 "nbformat_minor": 5
}
