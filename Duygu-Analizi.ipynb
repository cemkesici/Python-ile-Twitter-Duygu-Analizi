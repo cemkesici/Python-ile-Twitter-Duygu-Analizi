{
 "cells": [
  {
   "cell_type": "code",
   "execution_count": 2,
   "id": "e50cb347",
   "metadata": {
    "collapsed": true
   },
   "outputs": [
    {
     "name": "stdout",
     "output_type": "stream",
     "text": [
      "Defaulting to user installation because normal site-packages is not writeable\n",
      "Requirement already satisfied: nltk in d:\\programdata\\anaconda3\\lib\\site-packages (3.7)\n",
      "Requirement already satisfied: regex>=2021.8.3 in d:\\programdata\\anaconda3\\lib\\site-packages (from nltk) (2022.7.9)\n",
      "Requirement already satisfied: click in d:\\programdata\\anaconda3\\lib\\site-packages (from nltk) (8.0.4)\n",
      "Requirement already satisfied: joblib in d:\\programdata\\anaconda3\\lib\\site-packages (from nltk) (1.1.0)\n",
      "Requirement already satisfied: tqdm in d:\\programdata\\anaconda3\\lib\\site-packages (from nltk) (4.64.1)\n",
      "Requirement already satisfied: colorama in d:\\programdata\\anaconda3\\lib\\site-packages (from click->nltk) (0.4.5)\n",
      "Note: you may need to restart the kernel to use updated packages.\n",
      "Defaulting to user installation because normal site-packages is not writeable\n",
      "Requirement already satisfied: tweepy in d:\\programdata\\anaconda3\\lib\\site-packages (4.12.1)\n",
      "Requirement already satisfied: requests-oauthlib<2,>=1.2.0 in d:\\programdata\\anaconda3\\lib\\site-packages (from tweepy) (1.3.1)\n",
      "Requirement already satisfied: requests<3,>=2.27.0 in d:\\programdata\\anaconda3\\lib\\site-packages (from tweepy) (2.28.1)\n",
      "Requirement already satisfied: oauthlib<4,>=3.2.0 in d:\\programdata\\anaconda3\\lib\\site-packages (from tweepy) (3.2.2)\n",
      "Requirement already satisfied: charset-normalizer<3,>=2 in d:\\programdata\\anaconda3\\lib\\site-packages (from requests<3,>=2.27.0->tweepy) (2.0.4)\n",
      "Requirement already satisfied: certifi>=2017.4.17 in d:\\programdata\\anaconda3\\lib\\site-packages (from requests<3,>=2.27.0->tweepy) (2022.9.14)\n",
      "Requirement already satisfied: idna<4,>=2.5 in d:\\programdata\\anaconda3\\lib\\site-packages (from requests<3,>=2.27.0->tweepy) (3.3)\n",
      "Requirement already satisfied: urllib3<1.27,>=1.21.1 in d:\\programdata\\anaconda3\\lib\\site-packages (from requests<3,>=2.27.0->tweepy) (1.26.11)\n",
      "Note: you may need to restart the kernel to use updated packages.\n",
      "Defaulting to user installation because normal site-packages is not writeable\n",
      "Requirement already satisfied: pandas in d:\\programdata\\anaconda3\\lib\\site-packages (1.4.4)\n",
      "Requirement already satisfied: numpy>=1.18.5 in d:\\programdata\\anaconda3\\lib\\site-packages (from pandas) (1.21.5)\n",
      "Requirement already satisfied: python-dateutil>=2.8.1 in d:\\programdata\\anaconda3\\lib\\site-packages (from pandas) (2.8.2)\n",
      "Requirement already satisfied: pytz>=2020.1 in d:\\programdata\\anaconda3\\lib\\site-packages (from pandas) (2022.1)\n",
      "Requirement already satisfied: six>=1.5 in d:\\programdata\\anaconda3\\lib\\site-packages (from python-dateutil>=2.8.1->pandas) (1.16.0)\n",
      "Note: you may need to restart the kernel to use updated packages.\n"
     ]
    }
   ],
   "source": [
    "%pip install nltk\n",
    "%pip install tweepy\n",
    "%pip install pandas"
   ]
  },
  {
   "cell_type": "code",
   "execution_count": 3,
   "id": "f73c9b07",
   "metadata": {},
   "outputs": [],
   "source": [
    "import tweepy\n",
    "from tweepy import Stream\n",
    "from tweepy import OAuthHandler\n",
    "from tweepy.streaming import Stream\n",
    "import pandas as pd\n",
    "import json\n",
    "import csv\n",
    "import sys\n",
    "import time\n",
    "import re\n",
    "import warnings\n",
    "warnings.filterwarnings('ignore')"
   ]
  },
  {
   "cell_type": "code",
   "execution_count": 4,
   "id": "8c748bcc",
   "metadata": {},
   "outputs": [],
   "source": [
    "ckey = 'o7qidRODRWm5u07PtAWrCpSqf'\n",
    "csecret = '1Yn60OYMJl5kRCSM0XQ4Lskxh6hjM4VMz51OdsS6dM9DQuQ4MV'\n",
    "atoken = '1315792402234441730-Dt7AydgVGYI5VN9RRQfnR8Endh0WAc'\n",
    "asecret = 'jhfiDfB53Z27EqHfvfKbNdo0w2SWLqyyoAkILqgSoaGMK'\n",
    "\n",
    "OAUTH_KEYS = {'consumer_key':ckey, 'consumer_secret':csecret, 'access_token_key':atoken, 'access_token_secret':asecret}\n",
    "auth = tweepy.OAuthHandler(OAUTH_KEYS['consumer_key'], OAUTH_KEYS['consumer_secret'])\n",
    "\n",
    "api = tweepy.API(auth)"
   ]
  },
  {
   "cell_type": "code",
   "execution_count": 5,
   "id": "6aca0315",
   "metadata": {},
   "outputs": [],
   "source": [
    "def TweetTemizle(Dataset):\n",
    "    print (\"Tweetler Temizleniyor...\")\n",
    "    pattern = re.compile('http[s]?://(?:[a-zA-Z]|[0-9]|[$-_@.&+]|[!*\\(\\),]|(?:%[0-9a-fA-F][0-9a-fA-F]))+|#[a-zA-Z]+|$[a-zA-Z]+|@[a-zA-Z]+|[,.^_$*%-;鶯!?:]')\n",
    "    for i in range(len(Dataset[\"Tweet\"])):\n",
    "        Dataset[\"Tweet\"][i] = pattern.sub('', Dataset[\"Tweet\"][i])\n",
    "    print (\"Tweetler Temizlendi!\")\n",
    "    return Dataset"
   ]
  },
  {
   "cell_type": "code",
   "execution_count": 6,
   "id": "8d505ed8",
   "metadata": {},
   "outputs": [],
   "source": [
    "def toDataFrame(tweets):\n",
    "    print (\"Veriler Kayıt Ediliyor...\")\n",
    "    # COnvert to data frame\n",
    "    DataSet = pd.DataFrame()\n",
    "    \n",
    "    DataSet['Tweet_Id'] = [tweet.id for tweet in tweets]\n",
    "    DataSet['Tweet'] = [tweet.text for tweet in tweets]\n",
    "    DataSet['Tweet_Tarih'] = [tweet.created_at for tweet in tweets]\n",
    "    DataSet['Kullanıcı_Id'] = [tweet.user.id for tweet in tweets]  \n",
    "    DataSet['Kullanıcı_Adı'] = [tweet.user.name for tweet in tweets]       \n",
    "    DataSet['Dil'] = [tweet.lang for tweet in tweets]\n",
    "    \n",
    "    \"\"\"\"\n",
    "    DataSet['userCreateDt'] = [tweet.user.created_at for tweet in tweets]\n",
    "    DataSet['tweetRetweetCt'] = [tweet.retweet_count for tweet in tweets]\n",
    "    DataSet['tweetFavoriteCt'] = [tweet.favorite_count for tweet in tweets]\n",
    "    DataSet['tweetSource'] = [tweet.source for tweet in tweets]\n",
    "    DataSet['userScreen'] = [tweet.user.screen_name for tweet in tweets]\n",
    "    DataSet['userDesc'] = [tweet.user.description for tweet in tweets]\n",
    "    DataSet['userFollowerCt'] = [tweet.user.followers_count for tweet in tweets]\n",
    "    DataSet['userFriendsCt'] = [tweet.user.friends_count for tweet in tweets]\n",
    "    DataSet['userLocation'] = [tweet.user.location for tweet in tweets]\n",
    "    DataSet['userTimezone'] = [tweet.user.time_zone for tweet in tweets]\n",
    "    DataSet['Coordinates'] = [tweet.coordinates for tweet in tweets]\n",
    "    DataSet['GeoEnabled'] = [tweet.user.geo_enabled for tweet in tweets] \n",
    "    users_retweeted = []    \n",
    "    for tweet in tweets:\n",
    "        if tweet.place:\n",
    "            tweets_place.append(tweet.place.full_name)\n",
    "        else:\n",
    "            tweets_place.append('null')\n",
    "    \n",
    "    DataSet['TweetPlace'] = [i for i in tweets_place]\n",
    "    DataSet['UserWhoRetweeted'] = [i for i in users_retweeted]\n",
    "    \"\"\"\n",
    "    print (\"Veriler Kayıt Edildi!\")\n",
    "    return DataSet"
   ]
  },
  {
   "cell_type": "code",
   "execution_count": 7,
   "id": "485d6aad",
   "metadata": {},
   "outputs": [
    {
     "name": "stdout",
     "output_type": "stream",
     "text": [
      "Bağlantı Yapıldı!\n",
      "Kelimeye Uygun Tweetler Sorgulanıyor...\n",
      "Kelimeye Uygun Tweetler Sorgulandı!\n",
      "Veriler Kayıt Ediliyor...\n",
      "Veriler Kayıt Edildi!\n"
     ]
    }
   ],
   "source": [
    "if (not api):\n",
    "    print (\"Bağlantı Yapılamadı!\")\n",
    "    sys.exit(-1)\n",
    "else:\n",
    "    print (\"Bağlantı Yapıldı!\")\n",
    "    \n",
    "    aranan=input(\"Aranacak Kelimeyi Girin: \")\n",
    "    \n",
    "    print (\"Kelimeye Uygun Tweetler Sorgulanıyor...\")\n",
    "    \n",
    "    cursor = tweepy.Cursor(api.search_tweets, q=aranan, result_type=\"new\", geocode=\"55.0000,4.0000,1000km\",lang='tr',count=100)\n",
    "    \n",
    "    results=[]\n",
    "    for item in cursor.items(1000): # Remove the limit to 1000\n",
    "            results.append(item)\n",
    "            \n",
    "    print (\"Kelimeye Uygun Tweetler Sorgulandı!\")\n",
    "    \n",
    "    DataSet = toDataFrame(results)\n",
    "    DataSet.to_csv('tw.csv',index=False)"
   ]
  },
  {
   "cell_type": "code",
   "execution_count": 8,
   "id": "e018df1e",
   "metadata": {},
   "outputs": [
    {
     "name": "stdout",
     "output_type": "stream",
     "text": [
      "Tweetler Temizleniyor...\n",
      "Tweetler Temizlendi!\n"
     ]
    },
    {
     "data": {
      "text/html": [
       "<div>\n",
       "<style scoped>\n",
       "    .dataframe tbody tr th:only-of-type {\n",
       "        vertical-align: middle;\n",
       "    }\n",
       "\n",
       "    .dataframe tbody tr th {\n",
       "        vertical-align: top;\n",
       "    }\n",
       "\n",
       "    .dataframe thead th {\n",
       "        text-align: right;\n",
       "    }\n",
       "</style>\n",
       "<table border=\"1\" class=\"dataframe\">\n",
       "  <thead>\n",
       "    <tr style=\"text-align: right;\">\n",
       "      <th></th>\n",
       "      <th>Tweet_Id</th>\n",
       "      <th>Tweet</th>\n",
       "      <th>Tweet_Tarih</th>\n",
       "      <th>Kullanıcı_Id</th>\n",
       "      <th>Kullanıcı_Adı</th>\n",
       "      <th>Dil</th>\n",
       "    </tr>\n",
       "  </thead>\n",
       "  <tbody>\n",
       "    <tr>\n",
       "      <th>0</th>\n",
       "      <td>1595726963968462848</td>\n",
       "      <td>Türkiye uçakları aralıksız küzey Süryeyi bomba...</td>\n",
       "      <td>2022-11-24 10:32:10+00:00</td>\n",
       "      <td>950075167</td>\n",
       "      <td>Tony Vergili</td>\n",
       "      <td>tr</td>\n",
       "    </tr>\n",
       "    <tr>\n",
       "      <th>1</th>\n",
       "      <td>1595726582072623107</td>\n",
       "      <td>İsmail Bey Türkiyenin Suriye politikasının ya...</td>\n",
       "      <td>2022-11-24 10:30:38+00:00</td>\n",
       "      <td>96625800</td>\n",
       "      <td>Levent Taşkıran</td>\n",
       "      <td>tr</td>\n",
       "    </tr>\n",
       "    <tr>\n",
       "      <th>2</th>\n",
       "      <td>1595726086402625537</td>\n",
       "      <td>Bu kafamı Türkiye’yi yönetmeye talip Sen anca...</td>\n",
       "      <td>2022-11-24 10:28:40+00:00</td>\n",
       "      <td>1089148162110033920</td>\n",
       "      <td>mahmut kara69🇹🇷</td>\n",
       "      <td>tr</td>\n",
       "    </tr>\n",
       "    <tr>\n",
       "      <th>3</th>\n",
       "      <td>1595725585329922049</td>\n",
       "      <td>Çinarcik im  \\n\\n\\n\\n #çinarcik ınarcık ürkei ...</td>\n",
       "      <td>2022-11-24 10:26:41+00:00</td>\n",
       "      <td>1112745287225876482</td>\n",
       "      <td>Mark Bold</td>\n",
       "      <td>tr</td>\n",
       "    </tr>\n",
       "    <tr>\n",
       "      <th>4</th>\n",
       "      <td>1595725556980776962</td>\n",
       "      <td>🔥 AKP  yıl sonra geri adım attı Kritik kurum y...</td>\n",
       "      <td>2022-11-24 10:26:34+00:00</td>\n",
       "      <td>973432304336101376</td>\n",
       "      <td>TR TUBE</td>\n",
       "      <td>tr</td>\n",
       "    </tr>\n",
       "  </tbody>\n",
       "</table>\n",
       "</div>"
      ],
      "text/plain": [
       "              Tweet_Id                                              Tweet  \\\n",
       "0  1595726963968462848  Türkiye uçakları aralıksız küzey Süryeyi bomba...   \n",
       "1  1595726582072623107   İsmail Bey Türkiyenin Suriye politikasının ya...   \n",
       "2  1595726086402625537   Bu kafamı Türkiye’yi yönetmeye talip Sen anca...   \n",
       "3  1595725585329922049  Çinarcik im  \\n\\n\\n\\n #çinarcik ınarcık ürkei ...   \n",
       "4  1595725556980776962  🔥 AKP  yıl sonra geri adım attı Kritik kurum y...   \n",
       "\n",
       "                 Tweet_Tarih         Kullanıcı_Id    Kullanıcı_Adı Dil  \n",
       "0  2022-11-24 10:32:10+00:00            950075167     Tony Vergili  tr  \n",
       "1  2022-11-24 10:30:38+00:00             96625800  Levent Taşkıran  tr  \n",
       "2  2022-11-24 10:28:40+00:00  1089148162110033920  mahmut kara69🇹🇷  tr  \n",
       "3  2022-11-24 10:26:41+00:00  1112745287225876482        Mark Bold  tr  \n",
       "4  2022-11-24 10:26:34+00:00   973432304336101376          TR TUBE  tr  "
      ]
     },
     "execution_count": 8,
     "metadata": {},
     "output_type": "execute_result"
    }
   ],
   "source": [
    "Veri=pd.read_csv('tw.csv')\n",
    "TweetTemizle(Veri)\n",
    "\n",
    "Veri.head()"
   ]
  },
  {
   "cell_type": "code",
   "execution_count": 9,
   "id": "15a2639d",
   "metadata": {},
   "outputs": [
    {
     "data": {
      "text/html": [
       "<div>\n",
       "<style scoped>\n",
       "    .dataframe tbody tr th:only-of-type {\n",
       "        vertical-align: middle;\n",
       "    }\n",
       "\n",
       "    .dataframe tbody tr th {\n",
       "        vertical-align: top;\n",
       "    }\n",
       "\n",
       "    .dataframe thead th {\n",
       "        text-align: right;\n",
       "    }\n",
       "</style>\n",
       "<table border=\"1\" class=\"dataframe\">\n",
       "  <thead>\n",
       "    <tr style=\"text-align: right;\">\n",
       "      <th></th>\n",
       "      <th>Tweet_Id</th>\n",
       "      <th>Tweet</th>\n",
       "      <th>Tweet_Tarih</th>\n",
       "      <th>Kullanıcı_Id</th>\n",
       "      <th>Kullanıcı_Adı</th>\n",
       "      <th>Dil</th>\n",
       "    </tr>\n",
       "  </thead>\n",
       "  <tbody>\n",
       "    <tr>\n",
       "      <th>995</th>\n",
       "      <td>1595083799020605440</td>\n",
       "      <td>Türkiye den daha da uzakta</td>\n",
       "      <td>2022-11-22 15:56:27+00:00</td>\n",
       "      <td>1151136455881891840</td>\n",
       "      <td>Speedy_Carlosss</td>\n",
       "      <td>tr</td>\n",
       "    </tr>\n",
       "    <tr>\n",
       "      <th>996</th>\n",
       "      <td>1595083512012570625</td>\n",
       "      <td>nerede oluyor o tam olarak abd apple fiyatı...</td>\n",
       "      <td>2022-11-22 15:55:19+00:00</td>\n",
       "      <td>25872799</td>\n",
       "      <td>baris</td>\n",
       "      <td>tr</td>\n",
       "    </tr>\n",
       "    <tr>\n",
       "      <th>997</th>\n",
       "      <td>1595083158751420416</td>\n",
       "      <td>Suudi Arabistan Maliye Bakanlığı Türkiye Merke...</td>\n",
       "      <td>2022-11-22 15:53:54+00:00</td>\n",
       "      <td>1203818014854066176</td>\n",
       "      <td>Mesut Aram Dağhan</td>\n",
       "      <td>tr</td>\n",
       "    </tr>\n",
       "    <tr>\n",
       "      <th>998</th>\n",
       "      <td>1595082691384578049</td>\n",
       "      <td>Türk Savaş Uçakları  SuriyeTürkiye Sınırına  K...</td>\n",
       "      <td>2022-11-22 15:52:03+00:00</td>\n",
       "      <td>1569650266114527233</td>\n",
       "      <td>as_tkz</td>\n",
       "      <td>tr</td>\n",
       "    </tr>\n",
       "    <tr>\n",
       "      <th>999</th>\n",
       "      <td>1595082055003820033</td>\n",
       "      <td>Bence yarın Türkiye’de resmî tatil ilan etmeli...</td>\n",
       "      <td>2022-11-22 15:49:31+00:00</td>\n",
       "      <td>528735822</td>\n",
       "      <td>SelimBayer</td>\n",
       "      <td>tr</td>\n",
       "    </tr>\n",
       "  </tbody>\n",
       "</table>\n",
       "</div>"
      ],
      "text/plain": [
       "                Tweet_Id                                              Tweet  \\\n",
       "995  1595083799020605440                         Türkiye den daha da uzakta   \n",
       "996  1595083512012570625     nerede oluyor o tam olarak abd apple fiyatı...   \n",
       "997  1595083158751420416  Suudi Arabistan Maliye Bakanlığı Türkiye Merke...   \n",
       "998  1595082691384578049  Türk Savaş Uçakları  SuriyeTürkiye Sınırına  K...   \n",
       "999  1595082055003820033  Bence yarın Türkiye’de resmî tatil ilan etmeli...   \n",
       "\n",
       "                   Tweet_Tarih         Kullanıcı_Id      Kullanıcı_Adı Dil  \n",
       "995  2022-11-22 15:56:27+00:00  1151136455881891840    Speedy_Carlosss  tr  \n",
       "996  2022-11-22 15:55:19+00:00             25872799              baris  tr  \n",
       "997  2022-11-22 15:53:54+00:00  1203818014854066176  Mesut Aram Dağhan  tr  \n",
       "998  2022-11-22 15:52:03+00:00  1569650266114527233             as_tkz  tr  \n",
       "999  2022-11-22 15:49:31+00:00            528735822         SelimBayer  tr  "
      ]
     },
     "execution_count": 9,
     "metadata": {},
     "output_type": "execute_result"
    }
   ],
   "source": [
    "Veri.tail()"
   ]
  },
  {
   "cell_type": "code",
   "execution_count": 10,
   "id": "af5b11af",
   "metadata": {},
   "outputs": [
    {
     "name": "stdout",
     "output_type": "stream",
     "text": [
      "<class 'pandas.core.frame.DataFrame'>\n",
      "RangeIndex: 1000 entries, 0 to 999\n",
      "Data columns (total 6 columns):\n",
      " #   Column         Non-Null Count  Dtype \n",
      "---  ------         --------------  ----- \n",
      " 0   Tweet_Id       1000 non-null   int64 \n",
      " 1   Tweet          1000 non-null   object\n",
      " 2   Tweet_Tarih    1000 non-null   object\n",
      " 3   Kullanıcı_Id   1000 non-null   int64 \n",
      " 4   Kullanıcı_Adı  999 non-null    object\n",
      " 5   Dil            1000 non-null   object\n",
      "dtypes: int64(2), object(4)\n",
      "memory usage: 47.0+ KB\n"
     ]
    }
   ],
   "source": [
    "Veri.info()"
   ]
  },
  {
   "cell_type": "code",
   "execution_count": null,
   "id": "c87048a4",
   "metadata": {},
   "outputs": [],
   "source": []
  }
 ],
 "metadata": {
  "kernelspec": {
   "display_name": "Python 3.9.13 ('base')",
   "language": "python",
   "name": "python3"
  },
  "language_info": {
   "codemirror_mode": {
    "name": "ipython",
    "version": 3
   },
   "file_extension": ".py",
   "mimetype": "text/x-python",
   "name": "python",
   "nbconvert_exporter": "python",
   "pygments_lexer": "ipython3",
   "version": "3.9.13"
  },
  "vscode": {
   "interpreter": {
    "hash": "e42634819b8c191a5d07eaf23810ff32516dd8d3875f28ec3e488928fbd3c187"
   }
  },
  "widgets": {
   "application/vnd.jupyter.widget-state+json": {
    "state": {},
    "version_major": 2,
    "version_minor": 0
   }
  }
 },
 "nbformat": 4,
 "nbformat_minor": 5
}
