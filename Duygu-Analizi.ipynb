{
 "cells": [
  {
   "cell_type": "code",
   "execution_count": 1,
   "id": "e50cb347",
   "metadata": {
    "collapsed": true
   },
   "outputs": [
    {
     "name": "stdout",
     "output_type": "stream",
     "text": [
      "Defaulting to user installation because normal site-packages is not writeable\n",
      "Requirement already satisfied: nltk in d:\\programdata\\anaconda3\\lib\\site-packages (3.7)\n",
      "Requirement already satisfied: regex>=2021.8.3 in d:\\programdata\\anaconda3\\lib\\site-packages (from nltk) (2022.7.9)\n",
      "Requirement already satisfied: tqdm in d:\\programdata\\anaconda3\\lib\\site-packages (from nltk) (4.64.1)\n",
      "Requirement already satisfied: click in d:\\programdata\\anaconda3\\lib\\site-packages (from nltk) (8.0.4)\n",
      "Requirement already satisfied: joblib in d:\\programdata\\anaconda3\\lib\\site-packages (from nltk) (1.1.0)\n",
      "Requirement already satisfied: colorama in d:\\programdata\\anaconda3\\lib\\site-packages (from click->nltk) (0.4.5)\n",
      "Note: you may need to restart the kernel to use updated packages.\n",
      "Defaulting to user installation because normal site-packages is not writeable\n",
      "Requirement already satisfied: tweepy in d:\\programdata\\anaconda3\\lib\\site-packages (4.12.1)\n",
      "Requirement already satisfied: requests<3,>=2.27.0 in d:\\programdata\\anaconda3\\lib\\site-packages (from tweepy) (2.28.1)\n",
      "Requirement already satisfied: requests-oauthlib<2,>=1.2.0 in d:\\programdata\\anaconda3\\lib\\site-packages (from tweepy) (1.3.1)\n",
      "Requirement already satisfied: oauthlib<4,>=3.2.0 in d:\\programdata\\anaconda3\\lib\\site-packages (from tweepy) (3.2.2)\n",
      "Requirement already satisfied: certifi>=2017.4.17 in d:\\programdata\\anaconda3\\lib\\site-packages (from requests<3,>=2.27.0->tweepy) (2022.9.14)\n",
      "Requirement already satisfied: charset-normalizer<3,>=2 in d:\\programdata\\anaconda3\\lib\\site-packages (from requests<3,>=2.27.0->tweepy) (2.0.4)\n",
      "Requirement already satisfied: idna<4,>=2.5 in d:\\programdata\\anaconda3\\lib\\site-packages (from requests<3,>=2.27.0->tweepy) (3.3)\n",
      "Requirement already satisfied: urllib3<1.27,>=1.21.1 in d:\\programdata\\anaconda3\\lib\\site-packages (from requests<3,>=2.27.0->tweepy) (1.26.11)\n",
      "Note: you may need to restart the kernel to use updated packages.\n",
      "Defaulting to user installation because normal site-packages is not writeable\n",
      "Requirement already satisfied: pandas in d:\\programdata\\anaconda3\\lib\\site-packages (1.4.4)\n",
      "Requirement already satisfied: numpy>=1.18.5 in d:\\programdata\\anaconda3\\lib\\site-packages (from pandas) (1.21.5)\n",
      "Requirement already satisfied: python-dateutil>=2.8.1 in d:\\programdata\\anaconda3\\lib\\site-packages (from pandas) (2.8.2)\n",
      "Requirement already satisfied: pytz>=2020.1 in d:\\programdata\\anaconda3\\lib\\site-packages (from pandas) (2022.1)\n",
      "Requirement already satisfied: six>=1.5 in d:\\programdata\\anaconda3\\lib\\site-packages (from python-dateutil>=2.8.1->pandas) (1.16.0)\n",
      "Note: you may need to restart the kernel to use updated packages.\n"
     ]
    }
   ],
   "source": [
    "%pip install nltk\n",
    "%pip install tweepy\n",
    "%pip install pandas"
   ]
  },
  {
   "cell_type": "code",
   "execution_count": 2,
   "id": "f73c9b07",
   "metadata": {},
   "outputs": [],
   "source": [
    "import tweepy\n",
    "from tweepy import Stream\n",
    "from tweepy import OAuthHandler\n",
    "from tweepy.streaming import Stream\n",
    "import pandas as pd\n",
    "import json\n",
    "import csv\n",
    "import sys\n",
    "import time\n",
    "import re\n",
    "import warnings\n",
    "warnings.filterwarnings('ignore')"
   ]
  },
  {
   "cell_type": "code",
   "execution_count": 3,
   "id": "8c748bcc",
   "metadata": {},
   "outputs": [],
   "source": [
    "ckey = 'o7qidRODRWm5u07PtAWrCpSqf'\n",
    "csecret = '1Yn60OYMJl5kRCSM0XQ4Lskxh6hjM4VMz51OdsS6dM9DQuQ4MV'\n",
    "atoken = '1315792402234441730-Dt7AydgVGYI5VN9RRQfnR8Endh0WAc'\n",
    "asecret = 'jhfiDfB53Z27EqHfvfKbNdo0w2SWLqyyoAkILqgSoaGMK'\n",
    "\n",
    "OAUTH_KEYS = {'consumer_key':ckey, 'consumer_secret':csecret, 'access_token_key':atoken, 'access_token_secret':asecret}\n",
    "auth = tweepy.OAuthHandler(OAUTH_KEYS['consumer_key'], OAUTH_KEYS['consumer_secret'])\n",
    "\n",
    "api = tweepy.API(auth)"
   ]
  },
  {
   "cell_type": "code",
   "execution_count": 10,
   "id": "6aca0315",
   "metadata": {},
   "outputs": [],
   "source": [
    "def TweetTemizle(Dataset):\n",
    "    yedek=[]\n",
    "    print (\"Tweetler Temizleniyor...\")\n",
    "\n",
    "    pattern = re.compile('http[s]?://(?:[A-Za-z0-9]|[$-_@.&+]|[!*\\(\\),]|(?:%[0-9a-fA-F][0-9a-fA-F]))+|#[A-Za-z0-9]+|$[A-Za-z0-9]+|@[A-Za-z0-9]+|_[A-Za-z0-9]+|[,.^_$*%-;鶯!?’\"“”:=|…]+|\\n')\n",
    "    for i in range(len(Dataset[\"Tweet_Değiştirilmiş\"])):        \n",
    "        Dataset[\"Tweet_Değiştirilmiş\"][i]=pattern.sub(' ', Dataset[\"Tweet_Değiştirilmiş\"][i])\n",
    "        \n",
    "    print (\"Tweetler Temizlendi!\")\n",
    "    return Dataset"
   ]
  },
  {
   "cell_type": "code",
   "execution_count": 11,
   "id": "8d505ed8",
   "metadata": {},
   "outputs": [],
   "source": [
    "def toDataFrame(tweets):\n",
    "    print (\"Veriler Kayıt Ediliyor...\")\n",
    "    # COnvert to data frame    \n",
    "    pd.set_option('display.max_rows', None)\n",
    "    pd.set_option('display.max_columns', None)\n",
    "    pd.set_option('display.width', None)\n",
    "    pd.set_option('display.max_colwidth', None)\n",
    "    DataSet = pd.DataFrame()\n",
    "\n",
    "\n",
    "    #DataSet['Tweet_Id'] = [tweet.id for tweet in tweets]\n",
    "    DataSet['Tweet'] = [tweet.text for tweet in tweets]\n",
    "    DataSet['Tweet_Değiştirilmiş'] = [tweet.text for tweet in tweets]\n",
    "    #DataSet['Tweet_Tarih'] = [tweet.created_at for tweet in tweets]\n",
    "    #DataSet['Kullanıcı_Id'] = [tweet.user.id for tweet in tweets]  \n",
    "    #DataSet['Kullanıcı_Adı'] = [tweet.user.name for tweet in tweets]       \n",
    "    #DataSet['Dil'] = [tweet.lang for tweet in tweets]\n",
    "    \n",
    "    \"\"\"\"\n",
    "    DataSet['userCreateDt'] = [tweet.user.created_at for tweet in tweets]\n",
    "    DataSet['tweetRetweetCt'] = [tweet.retweet_count for tweet in tweets]\n",
    "    DataSet['tweetFavoriteCt'] = [tweet.favorite_count for tweet in tweets]\n",
    "    DataSet['tweetSource'] = [tweet.source for tweet in tweets]\n",
    "    DataSet['userScreen'] = [tweet.user.screen_name for tweet in tweets]\n",
    "    DataSet['userDesc'] = [tweet.user.description for tweet in tweets]\n",
    "    DataSet['userFollowerCt'] = [tweet.user.followers_count for tweet in tweets]\n",
    "    DataSet['userFriendsCt'] = [tweet.user.friends_count for tweet in tweets]\n",
    "    DataSet['userLocation'] = [tweet.user.location for tweet in tweets]\n",
    "    DataSet['userTimezone'] = [tweet.user.time_zone for tweet in tweets]\n",
    "    DataSet['Coordinates'] = [tweet.coordinates for tweet in tweets]\n",
    "    DataSet['GeoEnabled'] = [tweet.user.geo_enabled for tweet in tweets] \n",
    "    users_retweeted = []    \n",
    "    for tweet in tweets:\n",
    "        if tweet.place:\n",
    "            tweets_place.append(tweet.place.full_name)\n",
    "        else:\n",
    "            tweets_place.append('null')\n",
    "    \n",
    "    DataSet['TweetPlace'] = [i for i in tweets_place]\n",
    "    DataSet['UserWhoRetweeted'] = [i for i in users_retweeted]\n",
    "    \"\"\"\n",
    "    print (\"Veriler Kayıt Edildi!\")\n",
    "    return DataSet"
   ]
  },
  {
   "cell_type": "code",
   "execution_count": 12,
   "id": "485d6aad",
   "metadata": {},
   "outputs": [
    {
     "name": "stdout",
     "output_type": "stream",
     "text": [
      "Bağlantı Yapıldı!\n",
      "Kelimeye Uygun Tweetler Sorgulanıyor...\n",
      "Kelimeye Uygun Tweetler Sorgulandı!\n",
      "Veriler Kayıt Ediliyor...\n",
      "Veriler Kayıt Edildi!\n",
      "Tweetler Temizleniyor...\n",
      "Tweetler Temizlendi!\n"
     ]
    }
   ],
   "source": [
    "if (not api):\n",
    "    print (\"Bağlantı Yapılamadı!\")\n",
    "    sys.exit(-1)\n",
    "else:\n",
    "    print (\"Bağlantı Yapıldı!\")\n",
    "    \n",
    "    aranan=input(\"Aranacak Kelimeyi Girin: \")\n",
    "    \n",
    "    print (\"Kelimeye Uygun Tweetler Sorgulanıyor...\")\n",
    "    \n",
    "    cursor = tweepy.Cursor(api.search_tweets, q=aranan, result_type=\"new\", geocode=\"55.0000,4.0000,1000km\",lang='tr',count=100)\n",
    "    \n",
    "    results=[]\n",
    "    for item in cursor.items(1000): # Remove the limit to 1000\n",
    "            results.append(item)\n",
    "            \n",
    "    print (\"Kelimeye Uygun Tweetler Sorgulandı!\")\n",
    "    \n",
    "    DataSet = toDataFrame(results)    \n",
    "    TweetTemizle(DataSet)\n",
    "    DataSet.to_csv('tw.csv',index=False)"
   ]
  },
  {
   "cell_type": "code",
   "execution_count": 13,
   "id": "e018df1e",
   "metadata": {},
   "outputs": [
    {
     "data": {
      "text/html": [
       "<div>\n",
       "<style scoped>\n",
       "    .dataframe tbody tr th:only-of-type {\n",
       "        vertical-align: middle;\n",
       "    }\n",
       "\n",
       "    .dataframe tbody tr th {\n",
       "        vertical-align: top;\n",
       "    }\n",
       "\n",
       "    .dataframe thead th {\n",
       "        text-align: right;\n",
       "    }\n",
       "</style>\n",
       "<table border=\"1\" class=\"dataframe\">\n",
       "  <thead>\n",
       "    <tr style=\"text-align: right;\">\n",
       "      <th></th>\n",
       "      <th>Tweet</th>\n",
       "      <th>Tweet_Değiştirilmiş</th>\n",
       "    </tr>\n",
       "  </thead>\n",
       "  <tbody>\n",
       "    <tr>\n",
       "      <th>0</th>\n",
       "      <td>How do you say “Kahvaltı yaptım, kahvaltı yapıyorum, kahvaltı yapacağım.” in your native language? \\n\\n-… https://t.co/zTxOl6il1i</td>\n",
       "      <td>How do you say  Kahvaltı yaptım  kahvaltı yapıyorum  kahvaltı yapacağım  in your native language</td>\n",
       "    </tr>\n",
       "    <tr>\n",
       "      <th>1</th>\n",
       "      <td>Canlı | Monaco&amp;amp;Trabzonspor canlı anlatım izle! Monaco&amp;amp;Trabzonspor maçı saat kaçta hangi kanalda? İlk 11'ler...… https://t.co/pejZ0vxoaR</td>\n",
       "      <td>Canlı   Monaco amp Trabzonspor canlı anlatım izle  Monaco amp Trabzonspor maçı saat kaçta hangi kanalda  İlk  ler</td>\n",
       "    </tr>\n",
       "    <tr>\n",
       "      <th>2</th>\n",
       "      <td>Sabahın köründe egenin güzel sularınada yaşam koşusu yapacağım. Bok kusun istanbul-ankara.</td>\n",
       "      <td>Sabahın köründe egenin güzel sularınada yaşam koşusu yapacağım  Bok kusun istanbul ankara</td>\n",
       "    </tr>\n",
       "    <tr>\n",
       "      <th>3</th>\n",
       "      <td>@devbirbozayi istanbul harici = kirsal</td>\n",
       "      <td>istanbul harici   kirsal</td>\n",
       "    </tr>\n",
       "    <tr>\n",
       "      <th>4</th>\n",
       "      <td>ben örsün kerpetenin mühendisi\\nistanbul platosundan\\narizona çölüne kadar\\nilmek ilmek işledim\\nbütün namuskar\\nbütün i… https://t.co/oh1djQAN3i</td>\n",
       "      <td>ben örsün kerpetenin mühendisi istanbul platosundan arizona çölüne kadar ilmek ilmek işledim bütün namuskar bütün i</td>\n",
       "    </tr>\n",
       "  </tbody>\n",
       "</table>\n",
       "</div>"
      ],
      "text/plain": [
       "                                                                                                                                               Tweet  \\\n",
       "0                  How do you say “Kahvaltı yaptım, kahvaltı yapıyorum, kahvaltı yapacağım.” in your native language? \\n\\n-… https://t.co/zTxOl6il1i   \n",
       "1    Canlı | Monaco&amp;Trabzonspor canlı anlatım izle! Monaco&amp;Trabzonspor maçı saat kaçta hangi kanalda? İlk 11'ler...… https://t.co/pejZ0vxoaR   \n",
       "2                                                         Sabahın köründe egenin güzel sularınada yaşam koşusu yapacağım. Bok kusun istanbul-ankara.   \n",
       "3                                                                                                             @devbirbozayi istanbul harici = kirsal   \n",
       "4  ben örsün kerpetenin mühendisi\\nistanbul platosundan\\narizona çölüne kadar\\nilmek ilmek işledim\\nbütün namuskar\\nbütün i… https://t.co/oh1djQAN3i   \n",
       "\n",
       "                                                                                                      Tweet_Değiştirilmiş  \n",
       "0                 How do you say  Kahvaltı yaptım  kahvaltı yapıyorum  kahvaltı yapacağım  in your native language         \n",
       "1    Canlı   Monaco amp Trabzonspor canlı anlatım izle  Monaco amp Trabzonspor maçı saat kaçta hangi kanalda  İlk  ler     \n",
       "2                              Sabahın köründe egenin güzel sularınada yaşam koşusu yapacağım  Bok kusun istanbul ankara   \n",
       "3                                                                                                istanbul harici   kirsal  \n",
       "4  ben örsün kerpetenin mühendisi istanbul platosundan arizona çölüne kadar ilmek ilmek işledim bütün namuskar bütün i     "
      ]
     },
     "execution_count": 13,
     "metadata": {},
     "output_type": "execute_result"
    }
   ],
   "source": [
    "Veri=pd.read_csv('tw.csv')\n",
    "\n",
    "Veri.head()"
   ]
  },
  {
   "cell_type": "code",
   "execution_count": 14,
   "id": "15a2639d",
   "metadata": {},
   "outputs": [
    {
     "data": {
      "text/html": [
       "<div>\n",
       "<style scoped>\n",
       "    .dataframe tbody tr th:only-of-type {\n",
       "        vertical-align: middle;\n",
       "    }\n",
       "\n",
       "    .dataframe tbody tr th {\n",
       "        vertical-align: top;\n",
       "    }\n",
       "\n",
       "    .dataframe thead th {\n",
       "        text-align: right;\n",
       "    }\n",
       "</style>\n",
       "<table border=\"1\" class=\"dataframe\">\n",
       "  <thead>\n",
       "    <tr style=\"text-align: right;\">\n",
       "      <th></th>\n",
       "      <th>Tweet</th>\n",
       "      <th>Tweet_Değiştirilmiş</th>\n",
       "    </tr>\n",
       "  </thead>\n",
       "  <tbody>\n",
       "    <tr>\n",
       "      <th>485</th>\n",
       "      <td>@mt_goksu Seni istanbul a baskan mi yapacak istanbul’lu hadi ordan.</td>\n",
       "      <td>Seni istanbul a baskan mi yapacak istanbul lu hadi ordan</td>\n",
       "    </tr>\n",
       "    <tr>\n",
       "      <th>486</th>\n",
       "      <td>@mertrecep12 @mehmetcantemel @AlcayirCengiz Buralrda imar planını büyük şehir yapar. 2017 yılında bunu Cumhur başka… https://t.co/H0LwNmXrzm</td>\n",
       "      <td>Buralrda imar planını büyük şehir yapar    yılında bunu Cumhur başka</td>\n",
       "    </tr>\n",
       "    <tr>\n",
       "      <th>487</th>\n",
       "      <td>İstanbul-Taksim Terör Saldırısını Lanetliyoruz! - https://t.co/CcuSF4hyNJ https://t.co/vdGISgaqou</td>\n",
       "      <td>İstanbul Taksim Terör Saldırısını Lanetliyoruz</td>\n",
       "    </tr>\n",
       "    <tr>\n",
       "      <th>488</th>\n",
       "      <td>@jaresal_jakmak @SunExpress Hayır zürihe dönüyorum, haftaya istanbul🌻</td>\n",
       "      <td>Hayır zürihe dönüyorum  haftaya istanbul🌻</td>\n",
       "    </tr>\n",
       "    <tr>\n",
       "      <th>489</th>\n",
       "      <td>kar sezonu başlamadı, bodrum soğuk vakit varken tam istanbul’u gezme mevsimi. hem iki üç fotoğraf çekilir. https://t.co/h0oIS6sOT6</td>\n",
       "      <td>kar sezonu başlamadı  bodrum soğuk vakit varken tam istanbul u gezme mevsimi  hem iki üç fotoğraf çekilir</td>\n",
       "    </tr>\n",
       "  </tbody>\n",
       "</table>\n",
       "</div>"
      ],
      "text/plain": [
       "                                                                                                                                            Tweet  \\\n",
       "485                                                                           @mt_goksu Seni istanbul a baskan mi yapacak istanbul’lu hadi ordan.   \n",
       "486  @mertrecep12 @mehmetcantemel @AlcayirCengiz Buralrda imar planını büyük şehir yapar. 2017 yılında bunu Cumhur başka… https://t.co/H0LwNmXrzm   \n",
       "487                                             İstanbul-Taksim Terör Saldırısını Lanetliyoruz! - https://t.co/CcuSF4hyNJ https://t.co/vdGISgaqou   \n",
       "488                                                                         @jaresal_jakmak @SunExpress Hayır zürihe dönüyorum, haftaya istanbul🌻   \n",
       "489            kar sezonu başlamadı, bodrum soğuk vakit varken tam istanbul’u gezme mevsimi. hem iki üç fotoğraf çekilir. https://t.co/h0oIS6sOT6   \n",
       "\n",
       "                                                                                              Tweet_Değiştirilmiş  \n",
       "485                                                     Seni istanbul a baskan mi yapacak istanbul lu hadi ordan   \n",
       "486                                       Buralrda imar planını büyük şehir yapar    yılında bunu Cumhur başka     \n",
       "487                                                         İstanbul Taksim Terör Saldırısını Lanetliyoruz         \n",
       "488                                                                     Hayır zürihe dönüyorum  haftaya istanbul🌻  \n",
       "489  kar sezonu başlamadı  bodrum soğuk vakit varken tam istanbul u gezme mevsimi  hem iki üç fotoğraf çekilir     "
      ]
     },
     "execution_count": 14,
     "metadata": {},
     "output_type": "execute_result"
    }
   ],
   "source": [
    "Veri.tail()"
   ]
  },
  {
   "cell_type": "code",
   "execution_count": 9,
   "id": "af5b11af",
   "metadata": {},
   "outputs": [
    {
     "name": "stdout",
     "output_type": "stream",
     "text": [
      "<class 'pandas.core.frame.DataFrame'>\n",
      "RangeIndex: 263 entries, 0 to 262\n",
      "Data columns (total 2 columns):\n",
      " #   Column               Non-Null Count  Dtype \n",
      "---  ------               --------------  ----- \n",
      " 0   Tweet                263 non-null    object\n",
      " 1   Tweet_Değiştirilmiş  263 non-null    object\n",
      "dtypes: object(2)\n",
      "memory usage: 4.2+ KB\n"
     ]
    }
   ],
   "source": [
    "Veri.info()"
   ]
  },
  {
   "cell_type": "code",
   "execution_count": null,
   "id": "c87048a4",
   "metadata": {},
   "outputs": [],
   "source": []
  }
 ],
 "metadata": {
  "kernelspec": {
   "display_name": "Python 3.9.13 ('base')",
   "language": "python",
   "name": "python3"
  },
  "language_info": {
   "codemirror_mode": {
    "name": "ipython",
    "version": 3
   },
   "file_extension": ".py",
   "mimetype": "text/x-python",
   "name": "python",
   "nbconvert_exporter": "python",
   "pygments_lexer": "ipython3",
   "version": "3.9.13"
  },
  "vscode": {
   "interpreter": {
    "hash": "e42634819b8c191a5d07eaf23810ff32516dd8d3875f28ec3e488928fbd3c187"
   }
  },
  "widgets": {
   "application/vnd.jupyter.widget-state+json": {
    "state": {},
    "version_major": 2,
    "version_minor": 0
   }
  }
 },
 "nbformat": 4,
 "nbformat_minor": 5
}
